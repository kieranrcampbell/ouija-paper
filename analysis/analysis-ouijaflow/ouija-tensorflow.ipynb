{
 "cells": [
  {
   "cell_type": "markdown",
   "metadata": {},
   "source": [
    "# Ouija pseudotime using Edward and Tensorflow"
   ]
  },
  {
   "cell_type": "code",
   "execution_count": 121,
   "metadata": {
    "collapsed": false
   },
   "outputs": [
    {
     "name": "stdout",
     "output_type": "stream",
     "text": [
      "Populating the interactive namespace from numpy and matplotlib\n"
     ]
    }
   ],
   "source": [
    "%pylab inline\n",
    "\n",
    "import tensorflow as tf\n",
    "import edward as ed\n",
    "import pandas as pd\n",
    "import feather\n",
    "import six\n",
    "\n",
    "from edward.models import Normal, Gamma, Beta, Categorical, Mixture, ParamMixture\n",
    "\n",
    "from edward.util import get_session, get_variables\n",
    "\n",
    "ds = tf.contrib.distributions\n",
    "\n",
    "%run logit_shift_bijector"
   ]
  },
  {
   "cell_type": "markdown",
   "metadata": {},
   "source": [
    "## Data input"
   ]
  },
  {
   "cell_type": "code",
   "execution_count": 122,
   "metadata": {
    "collapsed": false
   },
   "outputs": [],
   "source": [
    "exprs = feather.read_dataframe(\"data/expression.feather\")\n",
    "pdata = feather.read_dataframe(\"data/cycledat.feather\")"
   ]
  },
  {
   "cell_type": "code",
   "execution_count": 123,
   "metadata": {
    "collapsed": false,
    "scrolled": true
   },
   "outputs": [
    {
     "data": {
      "text/html": [
       "<div>\n",
       "<table border=\"1\" class=\"dataframe\">\n",
       "  <thead>\n",
       "    <tr style=\"text-align: right;\">\n",
       "      <th></th>\n",
       "      <th>Progression.Rank</th>\n",
       "      <th>Estimated.phase</th>\n",
       "      <th>cellid</th>\n",
       "      <th>population</th>\n",
       "      <th>pc1</th>\n",
       "    </tr>\n",
       "  </thead>\n",
       "  <tbody>\n",
       "    <tr>\n",
       "      <th>0</th>\n",
       "      <td>1059</td>\n",
       "      <td>G1(late)</td>\n",
       "      <td>4</td>\n",
       "      <td>young LT-HSC</td>\n",
       "      <td>-5.274233</td>\n",
       "    </tr>\n",
       "    <tr>\n",
       "      <th>1</th>\n",
       "      <td>1139</td>\n",
       "      <td>G1(late)</td>\n",
       "      <td>5</td>\n",
       "      <td>young LT-HSC</td>\n",
       "      <td>-7.434146</td>\n",
       "    </tr>\n",
       "    <tr>\n",
       "      <th>2</th>\n",
       "      <td>1105</td>\n",
       "      <td>G1(late)</td>\n",
       "      <td>6</td>\n",
       "      <td>young LT-HSC</td>\n",
       "      <td>-8.756307</td>\n",
       "    </tr>\n",
       "    <tr>\n",
       "      <th>3</th>\n",
       "      <td>945</td>\n",
       "      <td>G1(early)</td>\n",
       "      <td>10</td>\n",
       "      <td>young LT-HSC</td>\n",
       "      <td>-8.967951</td>\n",
       "    </tr>\n",
       "    <tr>\n",
       "      <th>4</th>\n",
       "      <td>1242</td>\n",
       "      <td>S</td>\n",
       "      <td>11</td>\n",
       "      <td>young LT-HSC</td>\n",
       "      <td>23.389776</td>\n",
       "    </tr>\n",
       "  </tbody>\n",
       "</table>\n",
       "</div>"
      ],
      "text/plain": [
       "   Progression.Rank Estimated.phase  cellid    population        pc1\n",
       "0              1059        G1(late)       4  young LT-HSC  -5.274233\n",
       "1              1139        G1(late)       5  young LT-HSC  -7.434146\n",
       "2              1105        G1(late)       6  young LT-HSC  -8.756307\n",
       "3               945       G1(early)      10  young LT-HSC  -8.967951\n",
       "4              1242               S      11  young LT-HSC  23.389776"
      ]
     },
     "execution_count": 123,
     "metadata": {},
     "output_type": "execute_result"
    }
   ],
   "source": [
    "pdata.head()"
   ]
  },
  {
   "cell_type": "code",
   "execution_count": 124,
   "metadata": {
    "collapsed": false
   },
   "outputs": [],
   "source": [
    "exprs_mat = exprs.as_matrix().T\n",
    "N = exprs_mat.shape[0]\n",
    "G = exprs_mat.shape[1]\n",
    "Q = 1"
   ]
  },
  {
   "cell_type": "markdown",
   "metadata": {},
   "source": [
    "## Build model"
   ]
  },
  {
   "cell_type": "code",
   "execution_count": 125,
   "metadata": {
    "collapsed": false
   },
   "outputs": [],
   "source": [
    "k = Normal(loc = tf.zeros([G,Q]), scale = 50 * tf.ones([G,Q]), name = \"k\")\n",
    "t0 = Normal(loc = 0.5 * tf.ones(G), scale = 1 * tf.ones(G)) # Beta(1.5 * tf.ones(G), 1.5 * tf.ones(G)) # \n",
    "mu0 = Gamma(concentration = 2 * tf.ones(G), rate = tf.ones(G))\n",
    "\n",
    "z = Normal(loc = 0.5 * tf.ones([N,Q]), scale = tf.ones([N,Q]))\n",
    "\n",
    "phi = Gamma(concentration = 2 * tf.ones(1), rate = tf.ones(1))"
   ]
  },
  {
   "cell_type": "code",
   "execution_count": 126,
   "metadata": {
    "collapsed": true
   },
   "outputs": [],
   "source": [
    "pbeta = Normal(loc = tf.zeros(2), scale = tf.ones(2))"
   ]
  },
  {
   "cell_type": "code",
   "execution_count": 127,
   "metadata": {
    "collapsed": false
   },
   "outputs": [],
   "source": [
    "cell_mat = tf.stack([tf.reshape(z, [-1]), -tf.ones(N)], 1)\n",
    "gene_mat = tf.stack([tf.reshape(k, [-1]), tf.reshape(k, [-1]) * tf.reshape(t0, [-1])], 1)"
   ]
  },
  {
   "cell_type": "code",
   "execution_count": 128,
   "metadata": {
    "collapsed": false
   },
   "outputs": [
    {
     "data": {
      "text/plain": [
       "<tf.Tensor 'stack_11:0' shape=(374, 2) dtype=float32>"
      ]
     },
     "execution_count": 128,
     "metadata": {},
     "output_type": "execute_result"
    }
   ],
   "source": [
    "gene_mat"
   ]
  },
  {
   "cell_type": "code",
   "execution_count": 129,
   "metadata": {
    "collapsed": false
   },
   "outputs": [],
   "source": [
    "factor_mult = tf.matmul(cell_mat, gene_mat, transpose_b = True) \n",
    "mu = mu0 * tf.nn.sigmoid(factor_mult)"
   ]
  },
  {
   "cell_type": "code",
   "execution_count": 130,
   "metadata": {
    "collapsed": false
   },
   "outputs": [],
   "source": [
    "prob_dropout = pbeta[0] + pbeta[1] * mu"
   ]
  },
  {
   "cell_type": "code",
   "execution_count": 131,
   "metadata": {
    "collapsed": false
   },
   "outputs": [],
   "source": [
    "%run dropout_normal\n",
    "Y = DropoutNormal(p_dropout = prob_dropout, loc = mu, scale = tf.sqrt(1 + phi * mu))\n",
    "Y._p_dropout = prob_dropout"
   ]
  },
  {
   "cell_type": "code",
   "execution_count": 132,
   "metadata": {
    "collapsed": false
   },
   "outputs": [],
   "source": [
    "%run logit_shift_bijector.py\n",
    "qk = Normal(loc = tf.Variable(tf.zeros([G, Q])),\n",
    "           scale = tf.nn.softplus(tf.Variable(tf.zeros([G, Q]))))\n",
    "\n",
    "qz = ed.models.TransformedDistribution(\n",
    "    distribution = ed.models.NormalWithSoftplusScale(loc = tf.Variable(tf.zeros([N,Q])),\n",
    "                                                    scale = tf.Variable(tf.ones([N,Q]))),\n",
    "    bijector = LogitShiftBijector(a = tf.zeros([N,Q]), b = tf.ones([N,Q])),\n",
    "    name = \"qz\"\n",
    ")\n",
    "\n",
    "qmu0 = ed.models.TransformedDistribution(\n",
    "    distribution = ed.models.NormalWithSoftplusScale(loc = tf.Variable(tf.zeros(G)),\n",
    "                                                    scale = tf.Variable(tf.ones(G))),\n",
    "    bijector = ds.bijectors.Exp(),\n",
    "    name = \"qmu0\"\n",
    ")\n",
    "\n",
    "qphi = ed.models.TransformedDistribution(\n",
    "    distribution = ed.models.NormalWithSoftplusScale(loc = tf.Variable(tf.zeros(1)),\n",
    "                                                    scale = tf.Variable(tf.ones(1))),\n",
    "    bijector = ds.bijectors.Exp(),\n",
    "    name = \"qphi\"\n",
    ")\n",
    "\n",
    "qt0 = ed.models.TransformedDistribution(\n",
    "    distribution = ed.models.NormalWithSoftplusScale(loc = tf.Variable(tf.zeros(G)),\n",
    "                                                    scale = tf.Variable(tf.ones(G))),\n",
    "    bijector = LogitShiftBijector(a = tf.zeros(G), b = tf.ones(G)),\n",
    "    name = \"qt0\"\n",
    ")\n",
    "\n",
    "qbeta = Normal(loc = tf.Variable(tf.zeros(2)),\n",
    "           scale = tf.nn.softplus(tf.Variable(tf.ones(2))))"
   ]
  },
  {
   "cell_type": "code",
   "execution_count": 133,
   "metadata": {
    "collapsed": false
   },
   "outputs": [],
   "source": [
    "approx_dict = {\n",
    "    k: qk,\n",
    "    z: qz,\n",
    "    mu0: qmu0,\n",
    "    phi: qphi,\n",
    "    t0: qt0,\n",
    "    pbeta: qbeta\n",
    "}\n",
    "\n",
    "data_dict = {Y: exprs_mat}"
   ]
  },
  {
   "cell_type": "code",
   "execution_count": 134,
   "metadata": {
    "collapsed": false,
    "scrolled": false
   },
   "outputs": [
    {
     "name": "stdout",
     "output_type": "stream",
     "text": [
      "3000/3000 [100%] ██████████████████████████████ Elapsed: 94s | Loss: 131520.594\n"
     ]
    }
   ],
   "source": [
    "inference = ed.KLqp(approx_dict, data = data_dict)\n",
    "inference.run(n_iter = 3000, logdir = 'log')\n",
    "inference.finalize()"
   ]
  },
  {
   "cell_type": "code",
   "execution_count": 135,
   "metadata": {
    "collapsed": false
   },
   "outputs": [
    {
     "data": {
      "text/plain": [
       "array([ 3.33795691, -7.72962523], dtype=float32)"
      ]
     },
     "execution_count": 135,
     "metadata": {},
     "output_type": "execute_result"
    }
   ],
   "source": [
    "qbeta.parameters['loc'].eval()"
   ]
  },
  {
   "cell_type": "code",
   "execution_count": 136,
   "metadata": {
    "collapsed": false
   },
   "outputs": [
    {
     "data": {
      "text/plain": [
       "array([ 0.00071902], dtype=float32)"
      ]
     },
     "execution_count": 136,
     "metadata": {},
     "output_type": "execute_result"
    }
   ],
   "source": [
    "qphi.bijector.forward(qphi.distribution.loc).eval()"
   ]
  },
  {
   "cell_type": "code",
   "execution_count": 137,
   "metadata": {
    "collapsed": false
   },
   "outputs": [],
   "source": [
    "    zmap = qz.bijector.forward(qz.distribution.parameters['loc']).eval()"
   ]
  },
  {
   "cell_type": "code",
   "execution_count": 138,
   "metadata": {
    "collapsed": false
   },
   "outputs": [
    {
     "data": {
      "text/plain": [
       "<matplotlib.text.Text at 0x12b8f1ac8>"
      ]
     },
     "execution_count": 138,
     "metadata": {},
     "output_type": "execute_result"
    },
    {
     "data": {
      "image/png": "[encoded data removed]",
      "text/plain": [
       "<matplotlib.figure.Figure at 0x12ae26550>"
      ]
     },
     "metadata": {},
     "output_type": "display_data"
    }
   ],
   "source": [
    "plt.scatter(pdata.pc1, zmap)\n",
    "plt.xlabel(\"PC1\")\n",
    "plt.ylabel(\"Ouija-tensorflow pseudotime\")"
   ]
  },
  {
   "cell_type": "markdown",
   "metadata": {},
   "source": [
    "## Save results"
   ]
  },
  {
   "cell_type": "markdown",
   "metadata": {},
   "source": [
    "Per-cell data"
   ]
  },
  {
   "cell_type": "code",
   "execution_count": 139,
   "metadata": {
    "collapsed": false
   },
   "outputs": [],
   "source": [
    "qz_sd = tf.nn.softplus(qz.distribution.parameters['scale'])"
   ]
  },
  {
   "cell_type": "code",
   "execution_count": 140,
   "metadata": {
    "collapsed": false
   },
   "outputs": [],
   "source": [
    "cell_df = pd.DataFrame({\n",
    "        \"z_mean\": qz.bijector.forward(qz.distribution.parameters['loc']).eval().reshape(-1),\n",
    "       \"z_lower\": qz.bijector.forward(qz.distribution.parameters['loc'] - qz_sd ).eval().reshape(-1),\n",
    "       \"z_upper\": qz.bijector.forward(qz.distribution.parameters['loc'] + qz_sd).eval().reshape(-1)\n",
    "    })"
   ]
  },
  {
   "cell_type": "markdown",
   "metadata": {},
   "source": [
    "Per-gene data"
   ]
  },
  {
   "cell_type": "code",
   "execution_count": 141,
   "metadata": {
    "collapsed": true
   },
   "outputs": [],
   "source": [
    "t0_sd = tf.nn.softplus(qt0.distribution.parameters['scale'])\n",
    "k_sd = tf.nn.softplus(qk.parameters['scale'])\n",
    "\n",
    "k_mean = qk.parameters['loc']\n",
    "t0_mean = qt0.distribution.parameters['loc']\n",
    "\n",
    "mu0_mean = qmu0.bijector.forward(qmu0.distribution.parameters['loc'])"
   ]
  },
  {
   "cell_type": "code",
   "execution_count": 142,
   "metadata": {
    "collapsed": false
   },
   "outputs": [
    {
     "data": {
      "text/plain": [
       "array([ True,  True,  True,  True,  True], dtype=bool)"
      ]
     },
     "execution_count": 142,
     "metadata": {},
     "output_type": "execute_result"
    }
   ],
   "source": [
    "k_mean.eval().reshape(-1)[0:5] == qk.loc.eval().reshape(-1)[0:5]"
   ]
  },
  {
   "cell_type": "code",
   "execution_count": 143,
   "metadata": {
    "collapsed": false
   },
   "outputs": [],
   "source": [
    "gene_df = pd.DataFrame({\n",
    "        \"k_mean\": k_mean.eval().reshape(-1),\n",
    "        \"k_lower\": (k_mean - k_sd).eval().reshape(-1),\n",
    "        \"k_upper\": (k_mean + k_sd).eval().reshape(-1),\n",
    "        \"t0_mean\": qt0.bijector.forward(t0_mean).eval().reshape(-1),\n",
    "        \"t0_lower\": qt0.bijector.forward(t0_mean - t0_sd).eval().reshape(-1),\n",
    "        \"t0_upper\": qt0.bijector.forward(t0_mean + t0_sd).eval().reshape(-1),\n",
    "        \"mu0_mean\": mu0_mean.eval().reshape(-1)\n",
    "    })"
   ]
  },
  {
   "cell_type": "code",
   "execution_count": 144,
   "metadata": {
    "collapsed": false
   },
   "outputs": [
    {
     "data": {
      "text/html": [
       "<div>\n",
       "<table border=\"1\" class=\"dataframe\">\n",
       "  <thead>\n",
       "    <tr style=\"text-align: right;\">\n",
       "      <th></th>\n",
       "      <th>k_lower</th>\n",
       "      <th>k_mean</th>\n",
       "      <th>k_upper</th>\n",
       "      <th>mu0_mean</th>\n",
       "      <th>t0_lower</th>\n",
       "      <th>t0_mean</th>\n",
       "      <th>t0_upper</th>\n",
       "    </tr>\n",
       "  </thead>\n",
       "  <tbody>\n",
       "    <tr>\n",
       "      <th>0</th>\n",
       "      <td>-0.825867</td>\n",
       "      <td>-0.004695</td>\n",
       "      <td>0.816476</td>\n",
       "      <td>1.859116</td>\n",
       "      <td>0.291767</td>\n",
       "      <td>0.467786</td>\n",
       "      <td>0.652206</td>\n",
       "    </tr>\n",
       "    <tr>\n",
       "      <th>1</th>\n",
       "      <td>0.014189</td>\n",
       "      <td>0.932918</td>\n",
       "      <td>1.851648</td>\n",
       "      <td>0.633066</td>\n",
       "      <td>0.401502</td>\n",
       "      <td>0.489594</td>\n",
       "      <td>0.578337</td>\n",
       "    </tr>\n",
       "    <tr>\n",
       "      <th>2</th>\n",
       "      <td>-0.564022</td>\n",
       "      <td>0.242427</td>\n",
       "      <td>1.048877</td>\n",
       "      <td>2.075061</td>\n",
       "      <td>0.623703</td>\n",
       "      <td>0.707391</td>\n",
       "      <td>0.779060</td>\n",
       "    </tr>\n",
       "    <tr>\n",
       "      <th>3</th>\n",
       "      <td>7.747986</td>\n",
       "      <td>9.774510</td>\n",
       "      <td>11.801035</td>\n",
       "      <td>0.736306</td>\n",
       "      <td>0.490198</td>\n",
       "      <td>0.512365</td>\n",
       "      <td>0.534483</td>\n",
       "    </tr>\n",
       "    <tr>\n",
       "      <th>4</th>\n",
       "      <td>-6.353398</td>\n",
       "      <td>-2.552651</td>\n",
       "      <td>1.248096</td>\n",
       "      <td>0.231942</td>\n",
       "      <td>0.297090</td>\n",
       "      <td>0.497533</td>\n",
       "      <td>0.698771</td>\n",
       "    </tr>\n",
       "  </tbody>\n",
       "</table>\n",
       "</div>"
      ],
      "text/plain": [
       "    k_lower    k_mean    k_upper  mu0_mean  t0_lower   t0_mean  t0_upper\n",
       "0 -0.825867 -0.004695   0.816476  1.859116  0.291767  0.467786  0.652206\n",
       "1  0.014189  0.932918   1.851648  0.633066  0.401502  0.489594  0.578337\n",
       "2 -0.564022  0.242427   1.048877  2.075061  0.623703  0.707391  0.779060\n",
       "3  7.747986  9.774510  11.801035  0.736306  0.490198  0.512365  0.534483\n",
       "4 -6.353398 -2.552651   1.248096  0.231942  0.297090  0.497533  0.698771"
      ]
     },
     "execution_count": 144,
     "metadata": {},
     "output_type": "execute_result"
    }
   ],
   "source": [
    "gene_df.head()"
   ]
  },
  {
   "cell_type": "code",
   "execution_count": 145,
   "metadata": {
    "collapsed": false
   },
   "outputs": [],
   "source": [
    "feather.write_dataframe(cell_df, \"data/cell_df.feather\")\n",
    "feather.write_dataframe(gene_df, \"data/gene_df.feather\")"
   ]
  },
  {
   "cell_type": "code",
   "execution_count": 38,
   "metadata": {
    "collapsed": false
   },
   "outputs": [
    {
     "data": {
      "text/plain": [
       "'/Users/kieranc/oxford/bnlfa/ouijaflow'"
      ]
     },
     "execution_count": 38,
     "metadata": {},
     "output_type": "execute_result"
    }
   ],
   "source": [
    "%pwd"
   ]
  }
 ],
 "metadata": {
  "kernelspec": {
   "display_name": "Python 3",
   "language": "python",
   "name": "python3"
  },
  "language_info": {
   "codemirror_mode": {
    "name": "ipython",
    "version": 3
   },
   "file_extension": ".py",
   "mimetype": "text/x-python",
   "name": "python",
   "nbconvert_exporter": "python",
   "pygments_lexer": "ipython3",
   "version": "3.4.3"
  }
 },
 "nbformat": 4,
 "nbformat_minor": 0
}
